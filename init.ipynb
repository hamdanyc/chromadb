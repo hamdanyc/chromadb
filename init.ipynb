{
 "cells": [
  {
   "cell_type": "code",
   "execution_count": null,
   "id": "9c994fb0",
   "metadata": {},
   "outputs": [],
   "source": [
    "from dotenv import load_dotenv\n",
    "import chromadb\n",
    "import os\n",
    "import pprint"
   ]
  },
  {
   "cell_type": "markdown",
   "id": "301c3fad",
   "metadata": {},
   "source": [
    "### Load .env variables"
   ]
  },
  {
   "cell_type": "code",
   "execution_count": null,
   "id": "97c06ef8",
   "metadata": {},
   "outputs": [],
   "source": [
    "load_dotenv() # This loads variables from a .env file in the current directory\n",
    "\n",
    "# Accessing variables\n",
    "ch_api_key = os.getenv('CHROMA_API_KEY')\n",
    "ch_tenant = os.getenv('CHROMA_TENANT')\n",
    "ch_database = os.getenv('CHROMA_DATABASE')"
   ]
  },
  {
   "cell_type": "code",
   "execution_count": null,
   "id": "bbd873d8",
   "metadata": {},
   "outputs": [],
   "source": [
    "client = chromadb.CloudClient(\n",
    "    tenant=ch_tenant,\n",
    "    database=ch_database,\n",
    "    api_key=ch_api_key\n",
    ")"
   ]
  },
  {
   "cell_type": "code",
   "execution_count": 33,
   "id": "d2cde60b",
   "metadata": {},
   "outputs": [
    {
     "name": "stdout",
     "output_type": "stream",
     "text": [
      "[Collection(name=2403.19930.pdf),\n",
      " Collection(name=2405.20089.pdf),\n",
      " Collection(name=2405.18380.pdf),\n",
      " Collection(name=2403.03507.pdf),\n",
      " Collection(name=2401.02981.pdf),\n",
      " Collection(name=2402.12170.pdf),\n",
      " Collection(name=2401.06866.pdf),\n",
      " Collection(name=2311.11608.pdf),\n",
      " Collection(name=2402.02207.pdf),\n",
      " Collection(name=2401.10774.pdf),\n",
      " Collection(name=s42256-023-00626-4.pdf),\n",
      " Collection(name=2402.06922.pdf),\n",
      " Collection(name=ziegler.pdf)]\n",
      "13\n"
     ]
    }
   ],
   "source": [
    "collections = client.list_collections()\n",
    "pprint.pprint(collections)\n",
    "pprint.pprint(client.count_collections())"
   ]
  },
  {
   "cell_type": "markdown",
   "id": "7ac56daa",
   "metadata": {},
   "source": [
    "### View collection sample"
   ]
  },
  {
   "cell_type": "code",
   "execution_count": null,
   "id": "4b3189b0",
   "metadata": {},
   "outputs": [],
   "source": [
    "collection = client.get_collection(name=\"ziegler.pdf\")\n",
    "collection.peek()"
   ]
  },
  {
   "cell_type": "markdown",
   "id": "e2f5f6c5",
   "metadata": {},
   "source": [
    "### Add single collection\n",
    "\n",
    "1. Read from pdf file -> text\n",
    "2. save as text[document] to collection"
   ]
  },
  {
   "cell_type": "code",
   "execution_count": null,
   "id": "7458d96f",
   "metadata": {},
   "outputs": [],
   "source": [
    "collection = client.create_collection(name=\"new_collection.pdf\")\n",
    "collection.add(\n",
    "    ids=[\"id1\", \"id2\", \"id3\", ...],\n",
    "    documents=[\"lorem ipsum...\", \"doc2\", \"doc3\", ...],\n",
    "    metadatas=[{\"chapter\": 3, \"verse\": 16}, {\"chapter\": 3, \"verse\": 5}, {\"chapter\": 29, \"verse\": 11}, ...],\n",
    ")\n"
   ]
  }
 ],
 "metadata": {
  "language_info": {
   "name": "python"
  }
 },
 "nbformat": 4,
 "nbformat_minor": 5
}
