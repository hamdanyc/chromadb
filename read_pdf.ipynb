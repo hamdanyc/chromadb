{
  "cells": [
    {
      "cell_type": "code",
      "execution_count": null,
      "metadata": {},
      "outputs": [],
      "source": [
        "# Import required libraries\n",
        "import PyPDF2\n",
        "import os\n",
        "from chromadb import Client\n",
        "from chromadb.config import Settings"
      ]
    },
    {
      "cell_type": "code",
      "execution_count": null,
      "metadata": {},
      "outputs": [],
      "source": [
        "def process_pdf(pdf_path):\n",
        "    # 1. Read PDF and extract text\n",
        "    with open(pdf_path, 'rb') as file:\n",
        "        reader = PyPDF2.PdfReader(file)\n",
        "        text_pages = [page.extract_text() for page in reader.pages]\n",
        "    \n",
        "    # 2. Create documents with metadata\n",
        "    documents = []\n",
        "    for i, text in enumerate(text_pages):\n",
        "        metadata = {\n",
        "            \"page_number\": i + 1,\n",
        "            \"word_count\": len(text.split())\n",
        "        }\n",
        "        documents.append({\n",
        "            \"text\": text,\n",
        "            \"metadata\": metadata\n",
        "        })\n",
        "    \n",
        "    # 3. Create collection using PDF filename\n",
        "    collection_name = os.path.splitext(os.path.basename(pdf_path))[0]\n",
        "    \n",
        "    # 4. Add to Chroma Cloud\n",
        "    client = Client(Settings(\n",
        "        chroma_api_key=os.getenv(\"CHROMA_API_KEY\"),\n",
        "        chroma_server_host=\"your-chroma-cloud-host\",  # Replace with your host\n",
        "        chroma_server_port=443\n",
        "    ))\n",
        "    \n",
        "    collection = client.create_collection(name=collection_name)\n",
        "    \n",
        "    # 5. Add documents to collection\n",
        "    for doc in documents:\n",
        "        collection.add(\n",
        "            documents=doc[\"text\"],\n",
        "            metadatas=doc[\"metadata\"],\n",
        "            ids=f\"{collection_name}_page_{doc['metadata']['page_number']}\"\n",
        "        )\n",
        "    \n",
        "    return collection_name"
      ]
    },
    {
      "cell_type": "code",
      "execution_count": null,
      "metadata": {},
      "outputs": [],
      "source": [
        "# Replace with your PDF file path\n",
        "pdf_path = \"example.pdf\"  \n",
        "\n",
        "# Process the PDF\n",
        "collection_name = process_pdf(pdf_path)\n",
        "print(f\"✅ Created collection: {collection_name}\")"
      ]
    },
    {
      "cell_type": "code",
      "execution_count": null,
      "metadata": {},
      "outputs": [],
      "source": [
        "# Verify collection creation\n",
        "client = Client(Settings(\n",
        "    chroma_api_key=os.getenv(\"CHROMA_API_KEY\"),\n",
        "    chroma_server_host=\"your-chroma-cloud-host\",\n",
        "    chroma_server_port=443\n",
        "))\n",
        "collections = client.list_collections()\n",
        "print(\"Available collections:\", collections)"
      ]
    }
  ],
  "metadata": {
    "kernelspec": {
      "display_name": "Python 3",
      "language": "python",
      "name": "python3"
    },
    "language_info": {
      "name": "python"
    }
  },
  "nbformat": 4,
  "nbformat_minor": 5
}
